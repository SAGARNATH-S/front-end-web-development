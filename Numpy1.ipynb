{
  "nbformat": 4,
  "nbformat_minor": 0,
  "metadata": {
    "colab": {
      "name": "Numpy1.py",
      "provenance": [],
      "authorship_tag": "ABX9TyNj5Lj+y5Gzq3zkn+9qOHt5",
      "include_colab_link": true
    },
    "kernelspec": {
      "name": "python3",
      "display_name": "Python 3"
    }
  },
  "cells": [
    {
      "cell_type": "markdown",
      "metadata": {
        "id": "view-in-github",
        "colab_type": "text"
      },
      "source": [
        "<a href=\"https://colab.research.google.com/github/SAGARNATH-S/front-end-web-development/blob/master/Numpy1.ipynb\" target=\"_parent\"><img src=\"https://colab.research.google.com/assets/colab-badge.svg\" alt=\"Open In Colab\"/></a>"
      ]
    },
    {
      "cell_type": "code",
      "metadata": {
        "id": "fk2A396oK2Un",
        "colab_type": "code",
        "colab": {}
      },
      "source": [
        "import numpy as np"
      ],
      "execution_count": 1,
      "outputs": []
    },
    {
      "cell_type": "code",
      "metadata": {
        "id": "-A3RmmxFK_qd",
        "colab_type": "code",
        "colab": {
          "base_uri": "https://localhost:8080/",
          "height": 34
        },
        "outputId": "e20e7316-0545-4d21-f065-9e2bcb3c8d54"
      },
      "source": [
        "l=[1,2,3,4,5]\n",
        "print(l)"
      ],
      "execution_count": 2,
      "outputs": [
        {
          "output_type": "stream",
          "text": [
            "[1, 2, 3, 4, 5]\n"
          ],
          "name": "stdout"
        }
      ]
    },
    {
      "cell_type": "markdown",
      "metadata": {
        "id": "bvcPhNsyLSl-",
        "colab_type": "text"
      },
      "source": [
        "Converting List into 1D array"
      ]
    },
    {
      "cell_type": "code",
      "metadata": {
        "id": "AADVz_4nLCbd",
        "colab_type": "code",
        "colab": {
          "base_uri": "https://localhost:8080/",
          "height": 34
        },
        "outputId": "1d19633e-f2ec-43b9-8f11-cf07eae8580a"
      },
      "source": [
        "ar=np.array(l)\n",
        "print(ar)"
      ],
      "execution_count": 3,
      "outputs": [
        {
          "output_type": "stream",
          "text": [
            "[1 2 3 4 5]\n"
          ],
          "name": "stdout"
        }
      ]
    },
    {
      "cell_type": "markdown",
      "metadata": {
        "id": "DvGPVmoKLN7u",
        "colab_type": "text"
      },
      "source": [
        "Creating list of list and converting into 2D array"
      ]
    },
    {
      "cell_type": "code",
      "metadata": {
        "id": "zMKXFmdwLL61",
        "colab_type": "code",
        "colab": {
          "base_uri": "https://localhost:8080/",
          "height": 101
        },
        "outputId": "310b19a7-b7b8-4e34-9182-b02c519a638c"
      },
      "source": [
        "m=[[1,2,3],[3,4,5],[5,6,7]]\n",
        "n=np.array(m)\n",
        "print(\"list of list\",m,\"\\n\")\n",
        "print(n,\"2D array\")"
      ],
      "execution_count": 5,
      "outputs": [
        {
          "output_type": "stream",
          "text": [
            "list of list [[1, 2, 3], [3, 4, 5], [5, 6, 7]] \n",
            "\n",
            "[[1 2 3]\n",
            " [3 4 5]\n",
            " [5 6 7]] 2D array\n"
          ],
          "name": "stdout"
        }
      ]
    }
  ]
}